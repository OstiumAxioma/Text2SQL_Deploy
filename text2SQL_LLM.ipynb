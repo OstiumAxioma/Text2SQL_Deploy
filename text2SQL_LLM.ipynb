{
 "cells": [
  {
   "cell_type": "code",
   "execution_count": null,
   "metadata": {},
   "outputs": [],
   "source": [
    "%pip install pandas\n",
    "%pip install pysqlite3\n",
    "%pip install vanna\n",
    "%pip install openai\n",
    "%pip install chromadb\n",
    "%pip install chardet\n",
    "%pip install --upgrade requests\n",
    "%pip install --user onnxruntime-gpu"
   ]
  },
  {
   "cell_type": "code",
   "execution_count": null,
   "metadata": {},
   "outputs": [],
   "source": [
    "%pip install ollama"
   ]
  },
  {
   "cell_type": "markdown",
   "metadata": {},
   "source": [
    "## 1. Import Sample Data"
   ]
  },
  {
   "cell_type": "code",
   "execution_count": 2,
   "metadata": {},
   "outputs": [
    {
     "data": {
      "text/html": [
       "<div>\n",
       "<style scoped>\n",
       "    .dataframe tbody tr th:only-of-type {\n",
       "        vertical-align: middle;\n",
       "    }\n",
       "\n",
       "    .dataframe tbody tr th {\n",
       "        vertical-align: top;\n",
       "    }\n",
       "\n",
       "    .dataframe thead th {\n",
       "        text-align: right;\n",
       "    }\n",
       "</style>\n",
       "<table border=\"1\" class=\"dataframe\">\n",
       "  <thead>\n",
       "    <tr style=\"text-align: right;\">\n",
       "      <th></th>\n",
       "      <th>total_bill</th>\n",
       "      <th>tip</th>\n",
       "      <th>sex</th>\n",
       "      <th>smoker</th>\n",
       "      <th>day</th>\n",
       "      <th>time</th>\n",
       "      <th>size</th>\n",
       "    </tr>\n",
       "  </thead>\n",
       "  <tbody>\n",
       "    <tr>\n",
       "      <th>0</th>\n",
       "      <td>16.99</td>\n",
       "      <td>1.01</td>\n",
       "      <td>Female</td>\n",
       "      <td>No</td>\n",
       "      <td>Sun</td>\n",
       "      <td>Dinner</td>\n",
       "      <td>2</td>\n",
       "    </tr>\n",
       "    <tr>\n",
       "      <th>1</th>\n",
       "      <td>10.34</td>\n",
       "      <td>1.66</td>\n",
       "      <td>Male</td>\n",
       "      <td>No</td>\n",
       "      <td>Sun</td>\n",
       "      <td>Dinner</td>\n",
       "      <td>3</td>\n",
       "    </tr>\n",
       "    <tr>\n",
       "      <th>2</th>\n",
       "      <td>21.01</td>\n",
       "      <td>3.50</td>\n",
       "      <td>Male</td>\n",
       "      <td>No</td>\n",
       "      <td>Sun</td>\n",
       "      <td>Dinner</td>\n",
       "      <td>3</td>\n",
       "    </tr>\n",
       "    <tr>\n",
       "      <th>3</th>\n",
       "      <td>23.68</td>\n",
       "      <td>3.31</td>\n",
       "      <td>Male</td>\n",
       "      <td>No</td>\n",
       "      <td>Sun</td>\n",
       "      <td>Dinner</td>\n",
       "      <td>2</td>\n",
       "    </tr>\n",
       "    <tr>\n",
       "      <th>4</th>\n",
       "      <td>24.59</td>\n",
       "      <td>3.61</td>\n",
       "      <td>Female</td>\n",
       "      <td>No</td>\n",
       "      <td>Sun</td>\n",
       "      <td>Dinner</td>\n",
       "      <td>4</td>\n",
       "    </tr>\n",
       "  </tbody>\n",
       "</table>\n",
       "</div>"
      ],
      "text/plain": [
       "   total_bill   tip     sex smoker  day    time  size\n",
       "0       16.99  1.01  Female     No  Sun  Dinner     2\n",
       "1       10.34  1.66    Male     No  Sun  Dinner     3\n",
       "2       21.01  3.50    Male     No  Sun  Dinner     3\n",
       "3       23.68  3.31    Male     No  Sun  Dinner     2\n",
       "4       24.59  3.61  Female     No  Sun  Dinner     4"
      ]
     },
     "execution_count": 2,
     "metadata": {},
     "output_type": "execute_result"
    }
   ],
   "source": [
    "import pandas as pd\n",
    "df = pd.read_csv('data/tips.csv')\n",
    "df.head()"
   ]
  },
  {
   "cell_type": "markdown",
   "metadata": {},
   "source": [
    "## Create Sample Database"
   ]
  },
  {
   "cell_type": "code",
   "execution_count": 3,
   "metadata": {},
   "outputs": [
    {
     "data": {
      "text/plain": [
       "244"
      ]
     },
     "execution_count": 3,
     "metadata": {},
     "output_type": "execute_result"
    }
   ],
   "source": [
    "import sqlite3\n",
    "conn = sqlite3.connect('data/tips.db')\n",
    "df.to_sql('tips', conn, if_exists='replace', index=False)"
   ]
  },
  {
   "cell_type": "markdown",
   "metadata": {},
   "source": [
    "## 2. Obtain Database Query As Training Dataset"
   ]
  },
  {
   "cell_type": "code",
   "execution_count": 4,
   "metadata": {},
   "outputs": [
    {
     "name": "stdout",
     "output_type": "stream",
     "text": [
      "CREATE TABLE \"tips\" (\n",
      "\"total_bill\" REAL,\n",
      "  \"tip\" REAL,\n",
      "  \"sex\" TEXT,\n",
      "  \"smoker\" TEXT,\n",
      "  \"day\" TEXT,\n",
      "  \"time\" TEXT,\n",
      "  \"size\" INTEGER\n",
      ")\n"
     ]
    }
   ],
   "source": [
    "table_name = 'tips'\n",
    "cursor = conn.cursor()\n",
    "query = f\"SELECT sql FROM sqlite_master WHERE type='table' AND name='{table_name}'\"\n",
    "cursor.execute(query)\n",
    "create_table_sql = cursor.fetchone()[0]\n",
    "print(create_table_sql)\n",
    "cursor.close()\n",
    "conn.close()"
   ]
  },
  {
   "cell_type": "markdown",
   "metadata": {},
   "source": [
    "## 3. Connect To Your Original Model In Ollama\n",
    "In `MyVanna` config, `'model'` should be the exact name you find using command `ollama list`."
   ]
  },
  {
   "cell_type": "code",
   "execution_count": 5,
   "metadata": {},
   "outputs": [],
   "source": [
    "import vanna.ollama.ollama as vanna_ollama\n",
    "import requests\n",
    "\n",
    "def _final_submit_prompt(self, prompt, **kwargs):\n",
    "    if isinstance(prompt, list):\n",
    "        prompt_str = \"\"\n",
    "        for msg in prompt:\n",
    "            role = msg.get(\"role\", \"\")\n",
    "            content = msg.get(\"content\", \"\")\n",
    "            prompt_str += f\"{role}: {content}\\n\"\n",
    "    else:\n",
    "        prompt_str = str(prompt)\n",
    "\n",
    "    url = \"http://localhost:11436/api/generate\"\n",
    "\n",
    "    try:\n",
    "        res = requests.post(\n",
    "            url,\n",
    "            json={\n",
    "                \"model\": \"llama3.2\",\n",
    "                \"prompt\": prompt_str,\n",
    "                \"stream\": False\n",
    "            },\n",
    "            timeout=60\n",
    "        )\n",
    "        res.raise_for_status()\n",
    "        response_dict = res.json()\n",
    "        return response_dict.get(\"response\", \"\")\n",
    "    except Exception as e:\n",
    "        print(\"Connect to Ollama Fail\", e)\n",
    "        raise e\n",
    "\n",
    "vanna_ollama.Ollama.submit_prompt = _final_submit_prompt\n"
   ]
  },
  {
   "cell_type": "code",
   "execution_count": 6,
   "metadata": {},
   "outputs": [],
   "source": [
    "import vanna.ollama.ollama as vanna_ollama\n",
    "vanna_ollama.Ollama._Ollama__pull_model_if_ne = staticmethod(lambda *args, **kwargs: None)\n",
    "\n",
    "from vanna.ollama import Ollama\n",
    "from vanna.chromadb.chromadb_vector import ChromaDB_VectorStore\n",
    "from vanna.flask import VannaFlaskApp\n",
    "\n",
    "class MyVanna(ChromaDB_VectorStore, Ollama):\n",
    "    def __init__(self, config=None):\n",
    "        ChromaDB_VectorStore.__init__(self, config=config)\n",
    "        Ollama.__init__(self, config=config)\n",
    "\n",
    "vn = MyVanna(config={\n",
    "    'temperature': 0.5,\n",
    "    'model': 'llama3.2',\n",
    "    'host': 'localhost',\n",
    "    'port': 11436\n",
    "})\n"
   ]
  },
  {
   "cell_type": "code",
   "execution_count": 7,
   "metadata": {},
   "outputs": [],
   "source": [
    "vn.connect_to_sqlite('data/tips.db')"
   ]
  },
  {
   "cell_type": "markdown",
   "metadata": {},
   "source": [
    "## Training Data Import\n",
    "You Obtain This Data From **Step 2**"
   ]
  },
  {
   "cell_type": "code",
   "execution_count": 8,
   "metadata": {},
   "outputs": [
    {
     "name": "stdout",
     "output_type": "stream",
     "text": [
      "Adding ddl: \n",
      "CREATE TABLE \"tips\" (\n",
      "\"total_bill\" REAL,\n",
      "  \"tip\" REAL,\n",
      "  \"sex\" TEXT,\n",
      "  \"smoker\" TEXT,\n",
      "  \"day\" TEXT,\n",
      "  \"time\" TEXT,\n",
      "  \"size\" INTEGER\n",
      ")\n",
      "\n"
     ]
    },
    {
     "data": {
      "text/plain": [
       "'834d2ae5-41fb-546f-aa01-12edf8735c5a-ddl'"
      ]
     },
     "execution_count": 8,
     "metadata": {},
     "output_type": "execute_result"
    }
   ],
   "source": [
    "vn.train(ddl='''\n",
    "CREATE TABLE \"tips\" (\n",
    "\"total_bill\" REAL,\n",
    "  \"tip\" REAL,\n",
    "  \"sex\" TEXT,\n",
    "  \"smoker\" TEXT,\n",
    "  \"day\" TEXT,\n",
    "  \"time\" TEXT,\n",
    "  \"size\" INTEGER\n",
    ")\n",
    "''')"
   ]
  },
  {
   "cell_type": "markdown",
   "metadata": {},
   "source": [
    "## Initiate Vanna Panel\n",
    "You May Access It Through http://localhost:8084"
   ]
  },
  {
   "cell_type": "code",
   "execution_count": 9,
   "metadata": {},
   "outputs": [
    {
     "name": "stdout",
     "output_type": "stream",
     "text": [
      "Your app is running at:\n",
      "http://localhost:8084\n",
      " * Serving Flask app 'vanna.flask'\n",
      " * Debug mode: on\n"
     ]
    }
   ],
   "source": [
    "from vanna.flask import VannaFlaskApp\n",
    "app = VannaFlaskApp(vn, allow_llm_to_see_data=True)\n",
    "app.run()"
   ]
  }
 ],
 "metadata": {
  "kernelspec": {
   "display_name": ".venv",
   "language": "python",
   "name": "python3"
  },
  "language_info": {
   "codemirror_mode": {
    "name": "ipython",
    "version": 3
   },
   "file_extension": ".py",
   "mimetype": "text/x-python",
   "name": "python",
   "nbconvert_exporter": "python",
   "pygments_lexer": "ipython3",
   "version": "3.10.9"
  }
 },
 "nbformat": 4,
 "nbformat_minor": 2
}
